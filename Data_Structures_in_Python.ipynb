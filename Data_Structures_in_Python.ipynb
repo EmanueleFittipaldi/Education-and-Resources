{
  "nbformat": 4,
  "nbformat_minor": 0,
  "metadata": {
    "colab": {
      "name": "Data Structures in Python.ipynb",
      "provenance": [],
      "collapsed_sections": [],
      "authorship_tag": "ABX9TyPYjaetx3gwt7W7Y2NU/UlY",
      "include_colab_link": true
    },
    "kernelspec": {
      "name": "python3",
      "display_name": "Python 3"
    },
    "language_info": {
      "name": "python"
    }
  },
  "cells": [
    {
      "cell_type": "markdown",
      "metadata": {
        "id": "view-in-github",
        "colab_type": "text"
      },
      "source": [
        "<a href=\"https://colab.research.google.com/github/EmanueleFittipaldi/Education-and-Resources/blob/main/Data_Structures_in_Python.ipynb\" target=\"_parent\"><img src=\"https://colab.research.google.com/assets/colab-badge.svg\" alt=\"Open In Colab\"/></a>"
      ]
    },
    {
      "cell_type": "markdown",
      "source": [
        "# Data Structures"
      ],
      "metadata": {
        "id": "wRHzaLnC4d3m"
      }
    },
    {
      "cell_type": "markdown",
      "source": [
        "## Abstract Data Type"
      ],
      "metadata": {
        "id": "04usBj_F794D"
      }
    },
    {
      "cell_type": "markdown",
      "source": [
        "L' Abstract Data Type (ADT) è un modello matematico per tipi di dato. Viene definito attraverso le operazioni che mette a disposizione dell'utente, e ne determinano il suo *comportamento*.\n",
        "\n",
        "L' ADT differisce dalla struttura dati in quanto quest'ultima ne è la rappresentazione concreta dal punto di vista dell'implementatore, non dell'utente."
      ],
      "metadata": {
        "id": "_kD5Gq7y8App"
      }
    },
    {
      "cell_type": "markdown",
      "source": [
        "## Stack\n"
      ],
      "metadata": {
        "id": "lxFgyw5d4o5V"
      }
    },
    {
      "cell_type": "markdown",
      "source": [
        "Lo stack è una struttura dati che segue il principio *last-in, first-out (LIFO)*. \n",
        "\n",
        "Un utente può solo: \n",
        "- Inserire nuovi elementi nello stack tramite l'operazione **push**\n",
        "- Estrarre l'ultimo elemento inserito tramite l'operazione **pop**\n",
        "\n",
        "**Esempio pratico:**\n",
        "Una analogia che ci aiuta a comprendere lo stack è una pila di libri. Prendere il libro in cima è immediato, così aggiungerne un altro. Se vogliamo invece un libro che sta nel mezzo, dobbiamo prima togliere tutti gli altri libri sopra di esso.\n",
        "\n",
        "**Esempi di uso:**\n",
        "- Un brower per tenere traccia dei siti web visitati più di recente, inserisce (*fa il push*) ogni nuovo sito web visitato in uno stack. Quando l'utente vuole ritornare al sito precedente, usa il bottone \"back\" che effettua il *pop* dallo stack ottenendo il sito web visitato più di recente.\n",
        "- Un editor di testo allo stesso modo fornisce la possibilità di poter fare \"undo\" di operazioni eseguite sul testo. L'operazione di \"undo\" può essere realizzata inserendo il corpo del testo in uno stack ad ogni cambiamento."
      ],
      "metadata": {
        "id": "Wvf9-ytV76Zn"
      }
    },
    {
      "cell_type": "markdown",
      "source": [
        "### Stack Abstract Data Type"
      ],
      "metadata": {
        "id": "Z5TbI7dY-ItY"
      }
    },
    {
      "cell_type": "markdown",
      "source": [
        "Formalmente uno stack è un ADT tale che l'istanza **S** supporta i seguenti metodi:\n",
        "- **S.push(e):** Aggiunge un elemento *e* in cima allo stack S.\n",
        "- **S.pop():** Rimuove e ritorna l'elemento in cima allo stack S. Ritorna un errore se lo stack è vuoto.\n",
        "\n",
        "Inoltre è possibile definire dei metodi aggiuntivi per convenienza:\n",
        "- **S.top():** Ritorna il riferimento all'elemento in cima allo stack S, senza rimuoverlo; ritorna un errore se lo stack è vuoto.\n",
        "- **S.is_empty():** Ritorna True se lo stack S non contiene alcun elemento.\n",
        "- **len(S):** Ritorna il numero di elementi nello stack S; in Python, lo implementiamo con il metodo speciale \\_ \\_len\\_ \\_.\n",
        "\n",
        "Gli elementi aggiunti ad uno stack possono essere di un qualsiasi tipo arbtirario."
      ],
      "metadata": {
        "id": "Rd133fZT-MhV"
      }
    },
    {
      "cell_type": "markdown",
      "source": [
        "### Implementazione dello stack"
      ],
      "metadata": {
        "id": "xjsOZLLSA66S"
      }
    },
    {
      "cell_type": "markdown",
      "source": [
        "Le liste di Python potrebbero già da sole essere utilizzate come se fosse uno stack, ma formalmente le liste includono anche dei comportamenti che non sono possibili in uno stack. Un esempio è l'accesso diretto agli elementi utilizzando un indice. Ciò andrebbe a rompere l'astrazione che vogliamo raggiungere avendo definito l'ADT stack.\n",
        "\n",
        "Quello che facciamo è costruire una interfaccia pubblica messa a disposizione per gli utenti. In questo modo facciamo **Information Hiding**."
      ],
      "metadata": {
        "id": "qvjQhWFuBegJ"
      }
    },
    {
      "cell_type": "code",
      "source": [
        "class Empty(Exception):\n",
        "  \"\"\"Errore nel tentativo di accedere ad un elemento da un contenitore vuoto.\"\"\"\n",
        "  pass"
      ],
      "metadata": {
        "id": "xTZItVr8FF8t"
      },
      "execution_count": 1,
      "outputs": []
    },
    {
      "cell_type": "code",
      "execution_count": 2,
      "metadata": {
        "id": "rGwbRRQN3cSu"
      },
      "outputs": [],
      "source": [
        "class Stack:\n",
        "  \"\"\"LIFO Stack utilizzando una lista Python come meccanismo di memorizzazione sottostante.\"\"\"\n",
        "  def __init__(self):\n",
        "    \"\"\"Crea uno stack vuoto.\"\"\"\n",
        "    self._data = []                 # istanza di una lista privata\n",
        "\n",
        "  def __len__(self):\n",
        "    \"\"\"Ritorna il numero di elemento in uno stack.\"\"\"\n",
        "    return len(self._data)\n",
        "\n",
        "  def is_empty(self):\n",
        "    \"\"\"Ritorna True se lo stack è vuoto.\"\"\"\n",
        "    return len(self._data)==0\n",
        "\n",
        "  def push(self,e):\n",
        "    \"\"\"Aggiunge un elemento e in cima allo stack.\"\"\"\n",
        "    self._data.append(e)            # un nuovo item viene aggiunto in fondo alla lista\n",
        "\n",
        "  def pop(self):\n",
        "    \"\"\"Rimuove e ritorna l'eleemnto in cima allo stack. Solleva una eccezione se lo stack è vuoto.\"\"\"\n",
        "    if self.is_empty():\n",
        "      raise Empty('Stack is empty')\n",
        "    return self._data.pop()         # utilizziamo il metodo pop() delle liste di Python. Rimuove l'ultimo item dalla lista\n",
        "\n",
        "  def top(self):\n",
        "    \"\"\"Ritorna(ma non rimuove) l'elemento in cima allo stack. Solleva una eccezione se lo stack è vuoto.\"\"\"\n",
        "    if self.is_empty():\n",
        "      raise Empty('Stack is empty')\n",
        "    return self._data[-1]           # ritorna l'ultimo elemento dalla lista"
      ]
    },
    {
      "cell_type": "markdown",
      "source": [
        "### Esempio di uso"
      ],
      "metadata": {
        "id": "g5a7tqESFcij"
      }
    },
    {
      "cell_type": "code",
      "source": [
        "S = Stack()\n",
        "S.push(5)\n",
        "S.push(3)\n",
        "print(len(S))\n",
        "print(S.pop())\n",
        "print(S.is_empty())\n",
        "print(S.pop())\n",
        "print(S.is_empty())\n",
        "#print(S.pop())     # Decommenta questa riga per far lanciare l'eccezione Empty"
      ],
      "metadata": {
        "colab": {
          "base_uri": "https://localhost:8080/"
        },
        "id": "RTrimWt-FeY_",
        "outputId": "5cff4534-fc7b-45cf-bf8d-bc0cf8697b15"
      },
      "execution_count": 8,
      "outputs": [
        {
          "output_type": "stream",
          "name": "stdout",
          "text": [
            "2\n",
            "3\n",
            "False\n",
            "5\n",
            "True\n"
          ]
        }
      ]
    },
    {
      "cell_type": "markdown",
      "source": [
        "### Complessità temporale e temporale"
      ],
      "metadata": {
        "id": "hmJGMEzOGSl7"
      }
    },
    {
      "cell_type": "markdown",
      "source": [
        "- **S.push(e)** $\\;\\;O(1)$\n",
        "- **S.pop()**   $\\;\\;O(1)$\n",
        "- **S.top()** $\\;\\;O(1)$\n",
        "- **S.is_empty()** $\\;\\;O(1)$\n",
        "- **len(S)** $\\;\\;O(1)$\n",
        "\n",
        "La complessità spaziale di uno stak è $O(n)$ dove $n$ è il numero degli elementi correnti nello stack."
      ],
      "metadata": {
        "id": "J5Y-8PwFGqvy"
      }
    }
  ]
}